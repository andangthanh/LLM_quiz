{
 "cells": [
  {
   "cell_type": "code",
   "execution_count": null,
   "metadata": {},
   "outputs": [],
   "source": [
    "import requests\n",
    "from bs4 import BeautifulSoup\n",
    "from dataclasses import dataclass\n",
    "from datetime import datetime"
   ]
  },
  {
   "cell_type": "code",
   "execution_count": 34,
   "metadata": {},
   "outputs": [],
   "source": [
    "@dataclass\n",
    "class ScrapedData:\n",
    "    url: str\n",
    "    scrape_datetime: datetime\n",
    "    paragraphs: list[int]\n",
    "    total_words: int"
   ]
  },
  {
   "cell_type": "code",
   "execution_count": 77,
   "metadata": {},
   "outputs": [],
   "source": [
    "@dataclass\n",
    "class ScrapedJinaAiData:\n",
    "    url: str\n",
    "    scrape_datetime: datetime\n",
    "    content: str\n",
    "    total_words: int"
   ]
  },
  {
   "cell_type": "code",
   "execution_count": null,
   "metadata": {},
   "outputs": [],
   "source": [
    "def extract_content(url):\n",
    "    try:\n",
    "        response = requests.get(url)\n",
    "        response.raise_for_status()\n",
    "        soup = BeautifulSoup(response.text, \"html.parser\")\n",
    "        scrape_datetime = datetime.now()\n",
    "        paragraphs = [paragraph.get_text() for paragraph in soup.find_all('p')]\n",
    "        total_words = sum(len(paragraph.split()) for paragraph in paragraphs)\n",
    "\n",
    "        scraped_data = ScrapedData(\n",
    "            url=url,\n",
    "            scrape_datetime=scrape_datetime,\n",
    "            paragraphs=paragraphs,\n",
    "            total_words=total_words\n",
    "        )\n",
    "\n",
    "        return scraped_data\n",
    "    \n",
    "    except requests.exceptions.RequestException as e:\n",
    "        print(f\"Error while fetching the URL: {e}\")"
   ]
  },
  {
   "cell_type": "code",
   "execution_count": 83,
   "metadata": {},
   "outputs": [],
   "source": [
    "def scrape_jina_ai(url):\n",
    "    try:\n",
    "        response = requests.get(\"http://r.jina.ai/\" + url)\n",
    "        response.raise_for_status()\n",
    "        scrape_datetime = datetime.now()\n",
    "        total_words = len(response.text.split())\n",
    "        scraped_data = ScrapedJinaAiData(\n",
    "            url=\"http://\" + url,\n",
    "            scrape_datetime=scrape_datetime,\n",
    "            content=response.text,\n",
    "            total_words=total_words\n",
    "        )\n",
    "        return scraped_data\n",
    "    \n",
    "    except requests.exceptions.RequestException as e:\n",
    "        print(f\"Error while fetching the URL: {e}\")"
   ]
  },
  {
   "cell_type": "code",
   "execution_count": null,
   "metadata": {},
   "outputs": [],
   "source": [
    "base_url = \"wiki.leagueoflegends.com\""
   ]
  },
  {
   "cell_type": "code",
   "execution_count": 84,
   "metadata": {},
   "outputs": [],
   "source": [
    "url = \"wiki.leagueoflegends.com/en-us/Aatrox\"\n",
    "data = scrape_jina_ai(url)"
   ]
  },
  {
   "cell_type": "code",
   "execution_count": 85,
   "metadata": {},
   "outputs": [
    {
     "data": {
      "text/plain": [
       "'http://wiki.leagueoflegends.com/en-us/Aatrox'"
      ]
     },
     "execution_count": 85,
     "metadata": {},
     "output_type": "execute_result"
    }
   ],
   "source": [
    "data.url"
   ]
  },
  {
   "cell_type": "code",
   "execution_count": 86,
   "metadata": {},
   "outputs": [],
   "source": [
    "champ = response = requests.get(\"https://wiki.leagueoflegends.com/en-us/Champion\")"
   ]
  },
  {
   "cell_type": "code",
   "execution_count": 92,
   "metadata": {},
   "outputs": [],
   "source": [
    "soup = BeautifulSoup(champ.content, \"html.parser\")"
   ]
  },
  {
   "cell_type": "code",
   "execution_count": 111,
   "metadata": {},
   "outputs": [],
   "source": [
    "a = soup.find(\"td\", class_=\"navbox-cell\")"
   ]
  },
  {
   "cell_type": "code",
   "execution_count": 113,
   "metadata": {},
   "outputs": [],
   "source": [
    "links_in_table = a.find_all('a') if a else []"
   ]
  },
  {
   "cell_type": "code",
   "execution_count": 114,
   "metadata": {},
   "outputs": [
    {
     "data": {
      "text/plain": [
       "[<a href=\"/en-us/Aatrox\" title=\"Aatrox\"><img alt=\"Aatrox\" class=\"mw-file-element\" data-file-height=\"128\" data-file-width=\"128\" decoding=\"async\" height=\"46\" loading=\"lazy\" src=\"/en-us/images/thumb/Aatrox_OriginalSquare.png/46px-Aatrox_OriginalSquare.png?54659\" srcset=\"/en-us/images/thumb/Aatrox_OriginalSquare.png/92px-Aatrox_OriginalSquare.png?54659 2x\" width=\"46\"/></a>,\n",
       " <a href=\"/en-us/Ahri\" title=\"Ahri\"><img alt=\"Ahri\" class=\"mw-file-element\" data-file-height=\"128\" data-file-width=\"128\" decoding=\"async\" height=\"46\" loading=\"lazy\" src=\"/en-us/images/thumb/Ahri_OriginalSquare.png/46px-Ahri_OriginalSquare.png?62007\" srcset=\"/en-us/images/thumb/Ahri_OriginalSquare.png/92px-Ahri_OriginalSquare.png?62007 2x\" width=\"46\"/></a>,\n",
       " <a href=\"/en-us/Akali\" title=\"Akali\"><img alt=\"Akali\" class=\"mw-file-element\" data-file-height=\"128\" data-file-width=\"128\" decoding=\"async\" height=\"46\" loading=\"lazy\" src=\"/en-us/images/thumb/Akali_OriginalSquare.png/46px-Akali_OriginalSquare.png?b1a30\" srcset=\"/en-us/images/thumb/Akali_OriginalSquare.png/92px-Akali_OriginalSquare.png?b1a30 2x\" width=\"46\"/></a>,\n",
       " <a href=\"/en-us/Akshan\" title=\"Akshan\"><img alt=\"Akshan\" class=\"mw-file-element\" data-file-height=\"128\" data-file-width=\"128\" decoding=\"async\" height=\"46\" loading=\"lazy\" src=\"/en-us/images/thumb/Akshan_OriginalSquare.png/46px-Akshan_OriginalSquare.png?5de10\" srcset=\"/en-us/images/thumb/Akshan_OriginalSquare.png/92px-Akshan_OriginalSquare.png?5de10 2x\" width=\"46\"/></a>,\n",
       " <a href=\"/en-us/Alistar\" title=\"Alistar\"><img alt=\"Alistar\" class=\"mw-file-element\" data-file-height=\"128\" data-file-width=\"128\" decoding=\"async\" height=\"46\" loading=\"lazy\" src=\"/en-us/images/thumb/Alistar_OriginalSquare.png/46px-Alistar_OriginalSquare.png?838f5\" srcset=\"/en-us/images/thumb/Alistar_OriginalSquare.png/92px-Alistar_OriginalSquare.png?838f5 2x\" width=\"46\"/></a>,\n",
       " <a href=\"/en-us/Ambessa\" title=\"Ambessa\"><img alt=\"Ambessa\" class=\"mw-file-element\" data-file-height=\"128\" data-file-width=\"128\" decoding=\"async\" height=\"46\" loading=\"lazy\" src=\"/en-us/images/thumb/Ambessa_OriginalSquare.png/46px-Ambessa_OriginalSquare.png?d7d48\" srcset=\"/en-us/images/thumb/Ambessa_OriginalSquare.png/92px-Ambessa_OriginalSquare.png?d7d48 2x\" width=\"46\"/></a>,\n",
       " <a href=\"/en-us/Amumu\" title=\"Amumu\"><img alt=\"Amumu\" class=\"mw-file-element\" data-file-height=\"128\" data-file-width=\"128\" decoding=\"async\" height=\"46\" loading=\"lazy\" src=\"/en-us/images/thumb/Amumu_OriginalSquare.png/46px-Amumu_OriginalSquare.png?df896\" srcset=\"/en-us/images/thumb/Amumu_OriginalSquare.png/92px-Amumu_OriginalSquare.png?df896 2x\" width=\"46\"/></a>,\n",
       " <a href=\"/en-us/Anivia\" title=\"Anivia\"><img alt=\"Anivia\" class=\"mw-file-element\" data-file-height=\"128\" data-file-width=\"128\" decoding=\"async\" height=\"46\" loading=\"lazy\" src=\"/en-us/images/thumb/Anivia_OriginalSquare.png/46px-Anivia_OriginalSquare.png?e09b7\" srcset=\"/en-us/images/thumb/Anivia_OriginalSquare.png/92px-Anivia_OriginalSquare.png?e09b7 2x\" width=\"46\"/></a>,\n",
       " <a href=\"/en-us/Annie\" title=\"Annie\"><img alt=\"Annie\" class=\"mw-file-element\" data-file-height=\"128\" data-file-width=\"128\" decoding=\"async\" height=\"46\" loading=\"lazy\" src=\"/en-us/images/thumb/Annie_OriginalSquare.png/46px-Annie_OriginalSquare.png?3365a\" srcset=\"/en-us/images/thumb/Annie_OriginalSquare.png/92px-Annie_OriginalSquare.png?3365a 2x\" width=\"46\"/></a>,\n",
       " <a href=\"/en-us/Aphelios\" title=\"Aphelios\"><img alt=\"Aphelios\" class=\"mw-file-element\" data-file-height=\"128\" data-file-width=\"128\" decoding=\"async\" height=\"46\" loading=\"lazy\" src=\"/en-us/images/thumb/Aphelios_OriginalSquare.png/46px-Aphelios_OriginalSquare.png?94f44\" srcset=\"/en-us/images/thumb/Aphelios_OriginalSquare.png/92px-Aphelios_OriginalSquare.png?94f44 2x\" width=\"46\"/></a>,\n",
       " <a href=\"/en-us/Ashe\" title=\"Ashe\"><img alt=\"Ashe\" class=\"mw-file-element\" data-file-height=\"128\" data-file-width=\"128\" decoding=\"async\" height=\"46\" loading=\"lazy\" src=\"/en-us/images/thumb/Ashe_OriginalSquare.png/46px-Ashe_OriginalSquare.png?6057f\" srcset=\"/en-us/images/thumb/Ashe_OriginalSquare.png/92px-Ashe_OriginalSquare.png?6057f 2x\" width=\"46\"/></a>,\n",
       " <a href=\"/en-us/Aurelion_Sol\" title=\"Aurelion Sol\"><img alt=\"Aurelion Sol\" class=\"mw-file-element\" data-file-height=\"128\" data-file-width=\"128\" decoding=\"async\" height=\"46\" loading=\"lazy\" src=\"/en-us/images/thumb/Aurelion_Sol_OriginalSquare.png/46px-Aurelion_Sol_OriginalSquare.png?45fc0\" srcset=\"/en-us/images/thumb/Aurelion_Sol_OriginalSquare.png/92px-Aurelion_Sol_OriginalSquare.png?45fc0 2x\" width=\"46\"/></a>,\n",
       " <a href=\"/en-us/Aurora\" title=\"Aurora\"><img alt=\"Aurora\" class=\"mw-file-element\" data-file-height=\"128\" data-file-width=\"128\" decoding=\"async\" height=\"46\" loading=\"lazy\" src=\"/en-us/images/thumb/Aurora_OriginalSquare.png/46px-Aurora_OriginalSquare.png?420f7\" srcset=\"/en-us/images/thumb/Aurora_OriginalSquare.png/92px-Aurora_OriginalSquare.png?420f7 2x\" width=\"46\"/></a>,\n",
       " <a href=\"/en-us/Azir\" title=\"Azir\"><img alt=\"Azir\" class=\"mw-file-element\" data-file-height=\"128\" data-file-width=\"128\" decoding=\"async\" height=\"46\" loading=\"lazy\" src=\"/en-us/images/thumb/Azir_OriginalSquare.png/46px-Azir_OriginalSquare.png?c08d1\" srcset=\"/en-us/images/thumb/Azir_OriginalSquare.png/92px-Azir_OriginalSquare.png?c08d1 2x\" width=\"46\"/></a>,\n",
       " <a href=\"/en-us/Bard\" title=\"Bard\"><img alt=\"Bard\" class=\"mw-file-element\" data-file-height=\"128\" data-file-width=\"128\" decoding=\"async\" height=\"46\" loading=\"lazy\" src=\"/en-us/images/thumb/Bard_OriginalSquare.png/46px-Bard_OriginalSquare.png?6a129\" srcset=\"/en-us/images/thumb/Bard_OriginalSquare.png/92px-Bard_OriginalSquare.png?6a129 2x\" width=\"46\"/></a>,\n",
       " <a href=\"/en-us/Bel%27Veth\" title=\"Bel'Veth\"><img alt=\"Bel'Veth\" class=\"mw-file-element\" data-file-height=\"128\" data-file-width=\"128\" decoding=\"async\" height=\"46\" loading=\"lazy\" src=\"/en-us/images/thumb/Bel%27Veth_OriginalSquare.png/46px-Bel%27Veth_OriginalSquare.png?c9c1d\" srcset=\"/en-us/images/thumb/Bel%27Veth_OriginalSquare.png/92px-Bel%27Veth_OriginalSquare.png?c9c1d 2x\" width=\"46\"/></a>,\n",
       " <a href=\"/en-us/Blitzcrank\" title=\"Blitzcrank\"><img alt=\"Blitzcrank\" class=\"mw-file-element\" data-file-height=\"128\" data-file-width=\"128\" decoding=\"async\" height=\"46\" loading=\"lazy\" src=\"/en-us/images/thumb/Blitzcrank_OriginalSquare.png/46px-Blitzcrank_OriginalSquare.png?f7491\" srcset=\"/en-us/images/thumb/Blitzcrank_OriginalSquare.png/92px-Blitzcrank_OriginalSquare.png?f7491 2x\" width=\"46\"/></a>,\n",
       " <a href=\"/en-us/Brand\" title=\"Brand\"><img alt=\"Brand\" class=\"mw-file-element\" data-file-height=\"128\" data-file-width=\"128\" decoding=\"async\" height=\"46\" loading=\"lazy\" src=\"/en-us/images/thumb/Brand_OriginalSquare.png/46px-Brand_OriginalSquare.png?e23e1\" srcset=\"/en-us/images/thumb/Brand_OriginalSquare.png/92px-Brand_OriginalSquare.png?e23e1 2x\" width=\"46\"/></a>,\n",
       " <a href=\"/en-us/Braum\" title=\"Braum\"><img alt=\"Braum\" class=\"mw-file-element\" data-file-height=\"128\" data-file-width=\"128\" decoding=\"async\" height=\"46\" loading=\"lazy\" src=\"/en-us/images/thumb/Braum_OriginalSquare.png/46px-Braum_OriginalSquare.png?eb3cb\" srcset=\"/en-us/images/thumb/Braum_OriginalSquare.png/92px-Braum_OriginalSquare.png?eb3cb 2x\" width=\"46\"/></a>,\n",
       " <a href=\"/en-us/Briar\" title=\"Briar\"><img alt=\"Briar\" class=\"mw-file-element\" data-file-height=\"128\" data-file-width=\"128\" decoding=\"async\" height=\"46\" loading=\"lazy\" src=\"/en-us/images/thumb/Briar_OriginalSquare.png/46px-Briar_OriginalSquare.png?12059\" srcset=\"/en-us/images/thumb/Briar_OriginalSquare.png/92px-Briar_OriginalSquare.png?12059 2x\" width=\"46\"/></a>,\n",
       " <a href=\"/en-us/Caitlyn\" title=\"Caitlyn\"><img alt=\"Caitlyn\" class=\"mw-file-element\" data-file-height=\"128\" data-file-width=\"128\" decoding=\"async\" height=\"46\" loading=\"lazy\" src=\"/en-us/images/thumb/Caitlyn_OriginalSquare.png/46px-Caitlyn_OriginalSquare.png?726be\" srcset=\"/en-us/images/thumb/Caitlyn_OriginalSquare.png/92px-Caitlyn_OriginalSquare.png?726be 2x\" width=\"46\"/></a>,\n",
       " <a href=\"/en-us/Camille\" title=\"Camille\"><img alt=\"Camille\" class=\"mw-file-element\" data-file-height=\"128\" data-file-width=\"128\" decoding=\"async\" height=\"46\" loading=\"lazy\" src=\"/en-us/images/thumb/Camille_OriginalSquare.png/46px-Camille_OriginalSquare.png?92803\" srcset=\"/en-us/images/thumb/Camille_OriginalSquare.png/92px-Camille_OriginalSquare.png?92803 2x\" width=\"46\"/></a>,\n",
       " <a href=\"/en-us/Cassiopeia\" title=\"Cassiopeia\"><img alt=\"Cassiopeia\" class=\"mw-file-element\" data-file-height=\"128\" data-file-width=\"128\" decoding=\"async\" height=\"46\" loading=\"lazy\" src=\"/en-us/images/thumb/Cassiopeia_OriginalSquare.png/46px-Cassiopeia_OriginalSquare.png?35a1e\" srcset=\"/en-us/images/thumb/Cassiopeia_OriginalSquare.png/92px-Cassiopeia_OriginalSquare.png?35a1e 2x\" width=\"46\"/></a>,\n",
       " <a href=\"/en-us/Cho%27Gath\" title=\"Cho'Gath\"><img alt=\"Cho'Gath\" class=\"mw-file-element\" data-file-height=\"128\" data-file-width=\"128\" decoding=\"async\" height=\"46\" loading=\"lazy\" src=\"/en-us/images/thumb/Cho%27Gath_OriginalSquare.png/46px-Cho%27Gath_OriginalSquare.png?713e3\" srcset=\"/en-us/images/thumb/Cho%27Gath_OriginalSquare.png/92px-Cho%27Gath_OriginalSquare.png?713e3 2x\" width=\"46\"/></a>,\n",
       " <a href=\"/en-us/Corki\" title=\"Corki\"><img alt=\"Corki\" class=\"mw-file-element\" data-file-height=\"128\" data-file-width=\"128\" decoding=\"async\" height=\"46\" loading=\"lazy\" src=\"/en-us/images/thumb/Corki_OriginalSquare.png/46px-Corki_OriginalSquare.png?e6425\" srcset=\"/en-us/images/thumb/Corki_OriginalSquare.png/92px-Corki_OriginalSquare.png?e6425 2x\" width=\"46\"/></a>,\n",
       " <a href=\"/en-us/Darius\" title=\"Darius\"><img alt=\"Darius\" class=\"mw-file-element\" data-file-height=\"128\" data-file-width=\"128\" decoding=\"async\" height=\"46\" loading=\"lazy\" src=\"/en-us/images/thumb/Darius_OriginalSquare.png/46px-Darius_OriginalSquare.png?06723\" srcset=\"/en-us/images/thumb/Darius_OriginalSquare.png/92px-Darius_OriginalSquare.png?06723 2x\" width=\"46\"/></a>,\n",
       " <a href=\"/en-us/Diana\" title=\"Diana\"><img alt=\"Diana\" class=\"mw-file-element\" data-file-height=\"128\" data-file-width=\"128\" decoding=\"async\" height=\"46\" loading=\"lazy\" src=\"/en-us/images/thumb/Diana_OriginalSquare.png/46px-Diana_OriginalSquare.png?c0203\" srcset=\"/en-us/images/thumb/Diana_OriginalSquare.png/92px-Diana_OriginalSquare.png?c0203 2x\" width=\"46\"/></a>,\n",
       " <a href=\"/en-us/Dr._Mundo\" title=\"Dr. Mundo\"><img alt=\"Dr. Mundo\" class=\"mw-file-element\" data-file-height=\"128\" data-file-width=\"128\" decoding=\"async\" height=\"46\" loading=\"lazy\" src=\"/en-us/images/thumb/Dr._Mundo_OriginalSquare.png/46px-Dr._Mundo_OriginalSquare.png?0c5bd\" srcset=\"/en-us/images/thumb/Dr._Mundo_OriginalSquare.png/92px-Dr._Mundo_OriginalSquare.png?0c5bd 2x\" width=\"46\"/></a>,\n",
       " <a href=\"/en-us/Draven\" title=\"Draven\"><img alt=\"Draven\" class=\"mw-file-element\" data-file-height=\"128\" data-file-width=\"128\" decoding=\"async\" height=\"46\" loading=\"lazy\" src=\"/en-us/images/thumb/Draven_OriginalSquare.png/46px-Draven_OriginalSquare.png?63957\" srcset=\"/en-us/images/thumb/Draven_OriginalSquare.png/92px-Draven_OriginalSquare.png?63957 2x\" width=\"46\"/></a>,\n",
       " <a href=\"/en-us/Ekko\" title=\"Ekko\"><img alt=\"Ekko\" class=\"mw-file-element\" data-file-height=\"128\" data-file-width=\"128\" decoding=\"async\" height=\"46\" loading=\"lazy\" src=\"/en-us/images/thumb/Ekko_OriginalSquare.png/46px-Ekko_OriginalSquare.png?38871\" srcset=\"/en-us/images/thumb/Ekko_OriginalSquare.png/92px-Ekko_OriginalSquare.png?38871 2x\" width=\"46\"/></a>,\n",
       " <a href=\"/en-us/Elise\" title=\"Elise\"><img alt=\"Elise\" class=\"mw-file-element\" data-file-height=\"128\" data-file-width=\"128\" decoding=\"async\" height=\"46\" loading=\"lazy\" src=\"/en-us/images/thumb/Elise_OriginalSquare.png/46px-Elise_OriginalSquare.png?6fda7\" srcset=\"/en-us/images/thumb/Elise_OriginalSquare.png/92px-Elise_OriginalSquare.png?6fda7 2x\" width=\"46\"/></a>,\n",
       " <a href=\"/en-us/Evelynn\" title=\"Evelynn\"><img alt=\"Evelynn\" class=\"mw-file-element\" data-file-height=\"128\" data-file-width=\"128\" decoding=\"async\" height=\"46\" loading=\"lazy\" src=\"/en-us/images/thumb/Evelynn_OriginalSquare.png/46px-Evelynn_OriginalSquare.png?53ac4\" srcset=\"/en-us/images/thumb/Evelynn_OriginalSquare.png/92px-Evelynn_OriginalSquare.png?53ac4 2x\" width=\"46\"/></a>,\n",
       " <a href=\"/en-us/Ezreal\" title=\"Ezreal\"><img alt=\"Ezreal\" class=\"mw-file-element\" data-file-height=\"128\" data-file-width=\"128\" decoding=\"async\" height=\"46\" loading=\"lazy\" src=\"/en-us/images/thumb/Ezreal_OriginalSquare.png/46px-Ezreal_OriginalSquare.png?77eed\" srcset=\"/en-us/images/thumb/Ezreal_OriginalSquare.png/92px-Ezreal_OriginalSquare.png?77eed 2x\" width=\"46\"/></a>,\n",
       " <a href=\"/en-us/Fiddlesticks\" title=\"Fiddlesticks\"><img alt=\"Fiddlesticks\" class=\"mw-file-element\" data-file-height=\"128\" data-file-width=\"128\" decoding=\"async\" height=\"46\" loading=\"lazy\" src=\"/en-us/images/thumb/Fiddlesticks_OriginalSquare.png/46px-Fiddlesticks_OriginalSquare.png?c2c9c\" srcset=\"/en-us/images/thumb/Fiddlesticks_OriginalSquare.png/92px-Fiddlesticks_OriginalSquare.png?c2c9c 2x\" width=\"46\"/></a>,\n",
       " <a href=\"/en-us/Fiora\" title=\"Fiora\"><img alt=\"Fiora\" class=\"mw-file-element\" data-file-height=\"128\" data-file-width=\"128\" decoding=\"async\" height=\"46\" loading=\"lazy\" src=\"/en-us/images/thumb/Fiora_OriginalSquare.png/46px-Fiora_OriginalSquare.png?44142\" srcset=\"/en-us/images/thumb/Fiora_OriginalSquare.png/92px-Fiora_OriginalSquare.png?44142 2x\" width=\"46\"/></a>,\n",
       " <a href=\"/en-us/Fizz\" title=\"Fizz\"><img alt=\"Fizz\" class=\"mw-file-element\" data-file-height=\"128\" data-file-width=\"128\" decoding=\"async\" height=\"46\" loading=\"lazy\" src=\"/en-us/images/thumb/Fizz_OriginalSquare.png/46px-Fizz_OriginalSquare.png?ad161\" srcset=\"/en-us/images/thumb/Fizz_OriginalSquare.png/92px-Fizz_OriginalSquare.png?ad161 2x\" width=\"46\"/></a>,\n",
       " <a href=\"/en-us/Galio\" title=\"Galio\"><img alt=\"Galio\" class=\"mw-file-element\" data-file-height=\"128\" data-file-width=\"128\" decoding=\"async\" height=\"46\" loading=\"lazy\" src=\"/en-us/images/thumb/Galio_OriginalSquare.png/46px-Galio_OriginalSquare.png?e586e\" srcset=\"/en-us/images/thumb/Galio_OriginalSquare.png/92px-Galio_OriginalSquare.png?e586e 2x\" width=\"46\"/></a>,\n",
       " <a href=\"/en-us/Gangplank\" title=\"Gangplank\"><img alt=\"Gangplank\" class=\"mw-file-element\" data-file-height=\"128\" data-file-width=\"128\" decoding=\"async\" height=\"46\" loading=\"lazy\" src=\"/en-us/images/thumb/Gangplank_OriginalSquare.png/46px-Gangplank_OriginalSquare.png?65f8f\" srcset=\"/en-us/images/thumb/Gangplank_OriginalSquare.png/92px-Gangplank_OriginalSquare.png?65f8f 2x\" width=\"46\"/></a>,\n",
       " <a href=\"/en-us/Garen\" title=\"Garen\"><img alt=\"Garen\" class=\"mw-file-element\" data-file-height=\"128\" data-file-width=\"128\" decoding=\"async\" height=\"46\" loading=\"lazy\" src=\"/en-us/images/thumb/Garen_OriginalSquare.png/46px-Garen_OriginalSquare.png?db44b\" srcset=\"/en-us/images/thumb/Garen_OriginalSquare.png/92px-Garen_OriginalSquare.png?db44b 2x\" width=\"46\"/></a>,\n",
       " <a href=\"/en-us/Gnar\" title=\"Gnar\"><img alt=\"Gnar\" class=\"mw-file-element\" data-file-height=\"128\" data-file-width=\"128\" decoding=\"async\" height=\"46\" loading=\"lazy\" src=\"/en-us/images/thumb/Gnar_OriginalSquare.png/46px-Gnar_OriginalSquare.png?79b4f\" srcset=\"/en-us/images/thumb/Gnar_OriginalSquare.png/92px-Gnar_OriginalSquare.png?79b4f 2x\" width=\"46\"/></a>,\n",
       " <a href=\"/en-us/Gragas\" title=\"Gragas\"><img alt=\"Gragas\" class=\"mw-file-element\" data-file-height=\"128\" data-file-width=\"128\" decoding=\"async\" height=\"46\" loading=\"lazy\" src=\"/en-us/images/thumb/Gragas_OriginalSquare.png/46px-Gragas_OriginalSquare.png?41e2d\" srcset=\"/en-us/images/thumb/Gragas_OriginalSquare.png/92px-Gragas_OriginalSquare.png?41e2d 2x\" width=\"46\"/></a>,\n",
       " <a href=\"/en-us/Graves\" title=\"Graves\"><img alt=\"Graves\" class=\"mw-file-element\" data-file-height=\"128\" data-file-width=\"128\" decoding=\"async\" height=\"46\" loading=\"lazy\" src=\"/en-us/images/thumb/Graves_OriginalSquare.png/46px-Graves_OriginalSquare.png?839e6\" srcset=\"/en-us/images/thumb/Graves_OriginalSquare.png/92px-Graves_OriginalSquare.png?839e6 2x\" width=\"46\"/></a>,\n",
       " <a href=\"/en-us/Gwen\" title=\"Gwen\"><img alt=\"Gwen\" class=\"mw-file-element\" data-file-height=\"128\" data-file-width=\"128\" decoding=\"async\" height=\"46\" loading=\"lazy\" src=\"/en-us/images/thumb/Gwen_OriginalSquare.png/46px-Gwen_OriginalSquare.png?258b9\" srcset=\"/en-us/images/thumb/Gwen_OriginalSquare.png/92px-Gwen_OriginalSquare.png?258b9 2x\" width=\"46\"/></a>,\n",
       " <a href=\"/en-us/Hecarim\" title=\"Hecarim\"><img alt=\"Hecarim\" class=\"mw-file-element\" data-file-height=\"128\" data-file-width=\"128\" decoding=\"async\" height=\"46\" loading=\"lazy\" src=\"/en-us/images/thumb/Hecarim_OriginalSquare.png/46px-Hecarim_OriginalSquare.png?27630\" srcset=\"/en-us/images/thumb/Hecarim_OriginalSquare.png/92px-Hecarim_OriginalSquare.png?27630 2x\" width=\"46\"/></a>,\n",
       " <a href=\"/en-us/Heimerdinger\" title=\"Heimerdinger\"><img alt=\"Heimerdinger\" class=\"mw-file-element\" data-file-height=\"128\" data-file-width=\"128\" decoding=\"async\" height=\"46\" loading=\"lazy\" src=\"/en-us/images/thumb/Heimerdinger_OriginalSquare.png/46px-Heimerdinger_OriginalSquare.png?bcfe7\" srcset=\"/en-us/images/thumb/Heimerdinger_OriginalSquare.png/92px-Heimerdinger_OriginalSquare.png?bcfe7 2x\" width=\"46\"/></a>,\n",
       " <a href=\"/en-us/Hwei\" title=\"Hwei\"><img alt=\"Hwei\" class=\"mw-file-element\" data-file-height=\"128\" data-file-width=\"128\" decoding=\"async\" height=\"46\" loading=\"lazy\" src=\"/en-us/images/thumb/Hwei_OriginalSquare.png/46px-Hwei_OriginalSquare.png?e57cb\" srcset=\"/en-us/images/thumb/Hwei_OriginalSquare.png/92px-Hwei_OriginalSquare.png?e57cb 2x\" width=\"46\"/></a>,\n",
       " <a href=\"/en-us/Illaoi\" title=\"Illaoi\"><img alt=\"Illaoi\" class=\"mw-file-element\" data-file-height=\"128\" data-file-width=\"128\" decoding=\"async\" height=\"46\" loading=\"lazy\" src=\"/en-us/images/thumb/Illaoi_OriginalSquare.png/46px-Illaoi_OriginalSquare.png?67972\" srcset=\"/en-us/images/thumb/Illaoi_OriginalSquare.png/92px-Illaoi_OriginalSquare.png?67972 2x\" width=\"46\"/></a>,\n",
       " <a href=\"/en-us/Irelia\" title=\"Irelia\"><img alt=\"Irelia\" class=\"mw-file-element\" data-file-height=\"128\" data-file-width=\"128\" decoding=\"async\" height=\"46\" loading=\"lazy\" src=\"/en-us/images/thumb/Irelia_OriginalSquare.png/46px-Irelia_OriginalSquare.png?1fbef\" srcset=\"/en-us/images/thumb/Irelia_OriginalSquare.png/92px-Irelia_OriginalSquare.png?1fbef 2x\" width=\"46\"/></a>,\n",
       " <a href=\"/en-us/Ivern\" title=\"Ivern\"><img alt=\"Ivern\" class=\"mw-file-element\" data-file-height=\"128\" data-file-width=\"128\" decoding=\"async\" height=\"46\" loading=\"lazy\" src=\"/en-us/images/thumb/Ivern_OriginalSquare.png/46px-Ivern_OriginalSquare.png?5126d\" srcset=\"/en-us/images/thumb/Ivern_OriginalSquare.png/92px-Ivern_OriginalSquare.png?5126d 2x\" width=\"46\"/></a>,\n",
       " <a href=\"/en-us/Janna\" title=\"Janna\"><img alt=\"Janna\" class=\"mw-file-element\" data-file-height=\"128\" data-file-width=\"128\" decoding=\"async\" height=\"46\" loading=\"lazy\" src=\"/en-us/images/thumb/Janna_OriginalSquare.png/46px-Janna_OriginalSquare.png?6c38a\" srcset=\"/en-us/images/thumb/Janna_OriginalSquare.png/92px-Janna_OriginalSquare.png?6c38a 2x\" width=\"46\"/></a>,\n",
       " <a href=\"/en-us/Jarvan_IV\" title=\"Jarvan IV\"><img alt=\"Jarvan IV\" class=\"mw-file-element\" data-file-height=\"128\" data-file-width=\"128\" decoding=\"async\" height=\"46\" loading=\"lazy\" src=\"/en-us/images/thumb/Jarvan_IV_OriginalSquare.png/46px-Jarvan_IV_OriginalSquare.png?f86f2\" srcset=\"/en-us/images/thumb/Jarvan_IV_OriginalSquare.png/92px-Jarvan_IV_OriginalSquare.png?f86f2 2x\" width=\"46\"/></a>,\n",
       " <a href=\"/en-us/Jax\" title=\"Jax\"><img alt=\"Jax\" class=\"mw-file-element\" data-file-height=\"128\" data-file-width=\"128\" decoding=\"async\" height=\"46\" loading=\"lazy\" src=\"/en-us/images/thumb/Jax_OriginalSquare.png/46px-Jax_OriginalSquare.png?eb166\" srcset=\"/en-us/images/thumb/Jax_OriginalSquare.png/92px-Jax_OriginalSquare.png?eb166 2x\" width=\"46\"/></a>,\n",
       " <a href=\"/en-us/Jayce\" title=\"Jayce\"><img alt=\"Jayce\" class=\"mw-file-element\" data-file-height=\"128\" data-file-width=\"128\" decoding=\"async\" height=\"46\" loading=\"lazy\" src=\"/en-us/images/thumb/Jayce_OriginalSquare.png/46px-Jayce_OriginalSquare.png?7db86\" srcset=\"/en-us/images/thumb/Jayce_OriginalSquare.png/92px-Jayce_OriginalSquare.png?7db86 2x\" width=\"46\"/></a>,\n",
       " <a href=\"/en-us/Jhin\" title=\"Jhin\"><img alt=\"Jhin\" class=\"mw-file-element\" data-file-height=\"128\" data-file-width=\"128\" decoding=\"async\" height=\"46\" loading=\"lazy\" src=\"/en-us/images/thumb/Jhin_OriginalSquare.png/46px-Jhin_OriginalSquare.png?402b9\" srcset=\"/en-us/images/thumb/Jhin_OriginalSquare.png/92px-Jhin_OriginalSquare.png?402b9 2x\" width=\"46\"/></a>,\n",
       " <a href=\"/en-us/Jinx\" title=\"Jinx\"><img alt=\"Jinx\" class=\"mw-file-element\" data-file-height=\"128\" data-file-width=\"128\" decoding=\"async\" height=\"46\" loading=\"lazy\" src=\"/en-us/images/thumb/Jinx_OriginalSquare.png/46px-Jinx_OriginalSquare.png?ca470\" srcset=\"/en-us/images/thumb/Jinx_OriginalSquare.png/92px-Jinx_OriginalSquare.png?ca470 2x\" width=\"46\"/></a>,\n",
       " <a href=\"/en-us/K%27Sante\" title=\"K'Sante\"><img alt=\"K'Sante\" class=\"mw-file-element\" data-file-height=\"128\" data-file-width=\"128\" decoding=\"async\" height=\"46\" loading=\"lazy\" src=\"/en-us/images/thumb/K%27Sante_OriginalSquare.png/46px-K%27Sante_OriginalSquare.png?7a332\" srcset=\"/en-us/images/thumb/K%27Sante_OriginalSquare.png/92px-K%27Sante_OriginalSquare.png?7a332 2x\" width=\"46\"/></a>,\n",
       " <a href=\"/en-us/Kai%27Sa\" title=\"Kai'Sa\"><img alt=\"Kai'Sa\" class=\"mw-file-element\" data-file-height=\"128\" data-file-width=\"128\" decoding=\"async\" height=\"46\" loading=\"lazy\" src=\"/en-us/images/thumb/Kai%27Sa_OriginalSquare.png/46px-Kai%27Sa_OriginalSquare.png?6b80a\" srcset=\"/en-us/images/thumb/Kai%27Sa_OriginalSquare.png/92px-Kai%27Sa_OriginalSquare.png?6b80a 2x\" width=\"46\"/></a>,\n",
       " <a href=\"/en-us/Kalista\" title=\"Kalista\"><img alt=\"Kalista\" class=\"mw-file-element\" data-file-height=\"128\" data-file-width=\"128\" decoding=\"async\" height=\"46\" loading=\"lazy\" src=\"/en-us/images/thumb/Kalista_OriginalSquare.png/46px-Kalista_OriginalSquare.png?d11f9\" srcset=\"/en-us/images/thumb/Kalista_OriginalSquare.png/92px-Kalista_OriginalSquare.png?d11f9 2x\" width=\"46\"/></a>,\n",
       " <a href=\"/en-us/Karma\" title=\"Karma\"><img alt=\"Karma\" class=\"mw-file-element\" data-file-height=\"128\" data-file-width=\"128\" decoding=\"async\" height=\"46\" loading=\"lazy\" src=\"/en-us/images/thumb/Karma_OriginalSquare.png/46px-Karma_OriginalSquare.png?97c07\" srcset=\"/en-us/images/thumb/Karma_OriginalSquare.png/92px-Karma_OriginalSquare.png?97c07 2x\" width=\"46\"/></a>,\n",
       " <a href=\"/en-us/Karthus\" title=\"Karthus\"><img alt=\"Karthus\" class=\"mw-file-element\" data-file-height=\"128\" data-file-width=\"128\" decoding=\"async\" height=\"46\" loading=\"lazy\" src=\"/en-us/images/thumb/Karthus_OriginalSquare.png/46px-Karthus_OriginalSquare.png?c1dc6\" srcset=\"/en-us/images/thumb/Karthus_OriginalSquare.png/92px-Karthus_OriginalSquare.png?c1dc6 2x\" width=\"46\"/></a>,\n",
       " <a href=\"/en-us/Kassadin\" title=\"Kassadin\"><img alt=\"Kassadin\" class=\"mw-file-element\" data-file-height=\"128\" data-file-width=\"128\" decoding=\"async\" height=\"46\" loading=\"lazy\" src=\"/en-us/images/thumb/Kassadin_OriginalSquare.png/46px-Kassadin_OriginalSquare.png?3513a\" srcset=\"/en-us/images/thumb/Kassadin_OriginalSquare.png/92px-Kassadin_OriginalSquare.png?3513a 2x\" width=\"46\"/></a>,\n",
       " <a href=\"/en-us/Katarina\" title=\"Katarina\"><img alt=\"Katarina\" class=\"mw-file-element\" data-file-height=\"128\" data-file-width=\"128\" decoding=\"async\" height=\"46\" loading=\"lazy\" src=\"/en-us/images/thumb/Katarina_OriginalSquare.png/46px-Katarina_OriginalSquare.png?489fc\" srcset=\"/en-us/images/thumb/Katarina_OriginalSquare.png/92px-Katarina_OriginalSquare.png?489fc 2x\" width=\"46\"/></a>,\n",
       " <a href=\"/en-us/Kayle\" title=\"Kayle\"><img alt=\"Kayle\" class=\"mw-file-element\" data-file-height=\"128\" data-file-width=\"128\" decoding=\"async\" height=\"46\" loading=\"lazy\" src=\"/en-us/images/thumb/Kayle_OriginalSquare.png/46px-Kayle_OriginalSquare.png?91495\" srcset=\"/en-us/images/thumb/Kayle_OriginalSquare.png/92px-Kayle_OriginalSquare.png?91495 2x\" width=\"46\"/></a>,\n",
       " <a href=\"/en-us/Kayn\" title=\"Kayn\"><img alt=\"Kayn\" class=\"mw-file-element\" data-file-height=\"128\" data-file-width=\"128\" decoding=\"async\" height=\"46\" loading=\"lazy\" src=\"/en-us/images/thumb/Kayn_OriginalSquare.png/46px-Kayn_OriginalSquare.png?3fd7d\" srcset=\"/en-us/images/thumb/Kayn_OriginalSquare.png/92px-Kayn_OriginalSquare.png?3fd7d 2x\" width=\"46\"/></a>,\n",
       " <a href=\"/en-us/Kennen\" title=\"Kennen\"><img alt=\"Kennen\" class=\"mw-file-element\" data-file-height=\"128\" data-file-width=\"128\" decoding=\"async\" height=\"46\" loading=\"lazy\" src=\"/en-us/images/thumb/Kennen_OriginalSquare.png/46px-Kennen_OriginalSquare.png?c860d\" srcset=\"/en-us/images/thumb/Kennen_OriginalSquare.png/92px-Kennen_OriginalSquare.png?c860d 2x\" width=\"46\"/></a>,\n",
       " <a href=\"/en-us/Kha%27Zix\" title=\"Kha'Zix\"><img alt=\"Kha'Zix\" class=\"mw-file-element\" data-file-height=\"128\" data-file-width=\"128\" decoding=\"async\" height=\"46\" loading=\"lazy\" src=\"/en-us/images/thumb/Kha%27Zix_OriginalSquare.png/46px-Kha%27Zix_OriginalSquare.png?5e8a0\" srcset=\"/en-us/images/thumb/Kha%27Zix_OriginalSquare.png/92px-Kha%27Zix_OriginalSquare.png?5e8a0 2x\" width=\"46\"/></a>,\n",
       " <a href=\"/en-us/Kindred\" title=\"Kindred\"><img alt=\"Kindred\" class=\"mw-file-element\" data-file-height=\"128\" data-file-width=\"128\" decoding=\"async\" height=\"46\" loading=\"lazy\" src=\"/en-us/images/thumb/Kindred_OriginalSquare.png/46px-Kindred_OriginalSquare.png?a3322\" srcset=\"/en-us/images/thumb/Kindred_OriginalSquare.png/92px-Kindred_OriginalSquare.png?a3322 2x\" width=\"46\"/></a>,\n",
       " <a href=\"/en-us/Kled\" title=\"Kled\"><img alt=\"Kled\" class=\"mw-file-element\" data-file-height=\"128\" data-file-width=\"128\" decoding=\"async\" height=\"46\" loading=\"lazy\" src=\"/en-us/images/thumb/Kled_OriginalSquare.png/46px-Kled_OriginalSquare.png?52a35\" srcset=\"/en-us/images/thumb/Kled_OriginalSquare.png/92px-Kled_OriginalSquare.png?52a35 2x\" width=\"46\"/></a>,\n",
       " <a href=\"/en-us/Kog%27Maw\" title=\"Kog'Maw\"><img alt=\"Kog'Maw\" class=\"mw-file-element\" data-file-height=\"128\" data-file-width=\"128\" decoding=\"async\" height=\"46\" loading=\"lazy\" src=\"/en-us/images/thumb/Kog%27Maw_OriginalSquare.png/46px-Kog%27Maw_OriginalSquare.png?0fbb9\" srcset=\"/en-us/images/thumb/Kog%27Maw_OriginalSquare.png/92px-Kog%27Maw_OriginalSquare.png?0fbb9 2x\" width=\"46\"/></a>,\n",
       " <a href=\"/en-us/LeBlanc\" title=\"LeBlanc\"><img alt=\"LeBlanc\" class=\"mw-file-element\" data-file-height=\"128\" data-file-width=\"128\" decoding=\"async\" height=\"46\" loading=\"lazy\" src=\"/en-us/images/thumb/LeBlanc_OriginalSquare.png/46px-LeBlanc_OriginalSquare.png?d23f6\" srcset=\"/en-us/images/thumb/LeBlanc_OriginalSquare.png/92px-LeBlanc_OriginalSquare.png?d23f6 2x\" width=\"46\"/></a>,\n",
       " <a href=\"/en-us/Lee_Sin\" title=\"Lee Sin\"><img alt=\"Lee Sin\" class=\"mw-file-element\" data-file-height=\"128\" data-file-width=\"128\" decoding=\"async\" height=\"46\" loading=\"lazy\" src=\"/en-us/images/thumb/Lee_Sin_OriginalSquare.png/46px-Lee_Sin_OriginalSquare.png?f1618\" srcset=\"/en-us/images/thumb/Lee_Sin_OriginalSquare.png/92px-Lee_Sin_OriginalSquare.png?f1618 2x\" width=\"46\"/></a>,\n",
       " <a href=\"/en-us/Leona\" title=\"Leona\"><img alt=\"Leona\" class=\"mw-file-element\" data-file-height=\"128\" data-file-width=\"128\" decoding=\"async\" height=\"46\" loading=\"lazy\" src=\"/en-us/images/thumb/Leona_OriginalSquare.png/46px-Leona_OriginalSquare.png?c955e\" srcset=\"/en-us/images/thumb/Leona_OriginalSquare.png/92px-Leona_OriginalSquare.png?c955e 2x\" width=\"46\"/></a>,\n",
       " <a href=\"/en-us/Lillia\" title=\"Lillia\"><img alt=\"Lillia\" class=\"mw-file-element\" data-file-height=\"128\" data-file-width=\"128\" decoding=\"async\" height=\"46\" loading=\"lazy\" src=\"/en-us/images/thumb/Lillia_OriginalSquare.png/46px-Lillia_OriginalSquare.png?b48c1\" srcset=\"/en-us/images/thumb/Lillia_OriginalSquare.png/92px-Lillia_OriginalSquare.png?b48c1 2x\" width=\"46\"/></a>,\n",
       " <a href=\"/en-us/Lissandra\" title=\"Lissandra\"><img alt=\"Lissandra\" class=\"mw-file-element\" data-file-height=\"128\" data-file-width=\"128\" decoding=\"async\" height=\"46\" loading=\"lazy\" src=\"/en-us/images/thumb/Lissandra_OriginalSquare.png/46px-Lissandra_OriginalSquare.png?da9cb\" srcset=\"/en-us/images/thumb/Lissandra_OriginalSquare.png/92px-Lissandra_OriginalSquare.png?da9cb 2x\" width=\"46\"/></a>,\n",
       " <a href=\"/en-us/Lucian\" title=\"Lucian\"><img alt=\"Lucian\" class=\"mw-file-element\" data-file-height=\"128\" data-file-width=\"128\" decoding=\"async\" height=\"46\" loading=\"lazy\" src=\"/en-us/images/thumb/Lucian_OriginalSquare.png/46px-Lucian_OriginalSquare.png?99d9c\" srcset=\"/en-us/images/thumb/Lucian_OriginalSquare.png/92px-Lucian_OriginalSquare.png?99d9c 2x\" width=\"46\"/></a>,\n",
       " <a href=\"/en-us/Lulu\" title=\"Lulu\"><img alt=\"Lulu\" class=\"mw-file-element\" data-file-height=\"128\" data-file-width=\"128\" decoding=\"async\" height=\"46\" loading=\"lazy\" src=\"/en-us/images/thumb/Lulu_OriginalSquare.png/46px-Lulu_OriginalSquare.png?3242c\" srcset=\"/en-us/images/thumb/Lulu_OriginalSquare.png/92px-Lulu_OriginalSquare.png?3242c 2x\" width=\"46\"/></a>,\n",
       " <a href=\"/en-us/Lux\" title=\"Lux\"><img alt=\"Lux\" class=\"mw-file-element\" data-file-height=\"128\" data-file-width=\"128\" decoding=\"async\" height=\"46\" loading=\"lazy\" src=\"/en-us/images/thumb/Lux_OriginalSquare.png/46px-Lux_OriginalSquare.png?16eaf\" srcset=\"/en-us/images/thumb/Lux_OriginalSquare.png/92px-Lux_OriginalSquare.png?16eaf 2x\" width=\"46\"/></a>,\n",
       " <a href=\"/en-us/Malphite\" title=\"Malphite\"><img alt=\"Malphite\" class=\"mw-file-element\" data-file-height=\"128\" data-file-width=\"128\" decoding=\"async\" height=\"46\" loading=\"lazy\" src=\"/en-us/images/thumb/Malphite_OriginalSquare.png/46px-Malphite_OriginalSquare.png?4a8e1\" srcset=\"/en-us/images/thumb/Malphite_OriginalSquare.png/92px-Malphite_OriginalSquare.png?4a8e1 2x\" width=\"46\"/></a>,\n",
       " <a href=\"/en-us/Malzahar\" title=\"Malzahar\"><img alt=\"Malzahar\" class=\"mw-file-element\" data-file-height=\"128\" data-file-width=\"128\" decoding=\"async\" height=\"46\" loading=\"lazy\" src=\"/en-us/images/thumb/Malzahar_OriginalSquare.png/46px-Malzahar_OriginalSquare.png?32970\" srcset=\"/en-us/images/thumb/Malzahar_OriginalSquare.png/92px-Malzahar_OriginalSquare.png?32970 2x\" width=\"46\"/></a>,\n",
       " <a href=\"/en-us/Maokai\" title=\"Maokai\"><img alt=\"Maokai\" class=\"mw-file-element\" data-file-height=\"128\" data-file-width=\"128\" decoding=\"async\" height=\"46\" loading=\"lazy\" src=\"/en-us/images/thumb/Maokai_OriginalSquare.png/46px-Maokai_OriginalSquare.png?23c72\" srcset=\"/en-us/images/thumb/Maokai_OriginalSquare.png/92px-Maokai_OriginalSquare.png?23c72 2x\" width=\"46\"/></a>,\n",
       " <a href=\"/en-us/Master_Yi\" title=\"Master Yi\"><img alt=\"Master Yi\" class=\"mw-file-element\" data-file-height=\"128\" data-file-width=\"128\" decoding=\"async\" height=\"46\" loading=\"lazy\" src=\"/en-us/images/thumb/Master_Yi_OriginalSquare.png/46px-Master_Yi_OriginalSquare.png?1b356\" srcset=\"/en-us/images/thumb/Master_Yi_OriginalSquare.png/92px-Master_Yi_OriginalSquare.png?1b356 2x\" width=\"46\"/></a>,\n",
       " <a href=\"/en-us/Milio\" title=\"Milio\"><img alt=\"Milio\" class=\"mw-file-element\" data-file-height=\"128\" data-file-width=\"128\" decoding=\"async\" height=\"46\" loading=\"lazy\" src=\"/en-us/images/thumb/Milio_OriginalSquare.png/46px-Milio_OriginalSquare.png?0f1ad\" srcset=\"/en-us/images/thumb/Milio_OriginalSquare.png/92px-Milio_OriginalSquare.png?0f1ad 2x\" width=\"46\"/></a>,\n",
       " <a href=\"/en-us/Miss_Fortune\" title=\"Miss Fortune\"><img alt=\"Miss Fortune\" class=\"mw-file-element\" data-file-height=\"128\" data-file-width=\"128\" decoding=\"async\" height=\"46\" loading=\"lazy\" src=\"/en-us/images/thumb/Miss_Fortune_OriginalSquare.png/46px-Miss_Fortune_OriginalSquare.png?955f4\" srcset=\"/en-us/images/thumb/Miss_Fortune_OriginalSquare.png/92px-Miss_Fortune_OriginalSquare.png?955f4 2x\" width=\"46\"/></a>,\n",
       " <a href=\"/en-us/Mordekaiser\" title=\"Mordekaiser\"><img alt=\"Mordekaiser\" class=\"mw-file-element\" data-file-height=\"128\" data-file-width=\"128\" decoding=\"async\" height=\"46\" loading=\"lazy\" src=\"/en-us/images/thumb/Mordekaiser_OriginalSquare.png/46px-Mordekaiser_OriginalSquare.png?358a3\" srcset=\"/en-us/images/thumb/Mordekaiser_OriginalSquare.png/92px-Mordekaiser_OriginalSquare.png?358a3 2x\" width=\"46\"/></a>,\n",
       " <a href=\"/en-us/Morgana\" title=\"Morgana\"><img alt=\"Morgana\" class=\"mw-file-element\" data-file-height=\"128\" data-file-width=\"128\" decoding=\"async\" height=\"46\" loading=\"lazy\" src=\"/en-us/images/thumb/Morgana_OriginalSquare.png/46px-Morgana_OriginalSquare.png?c5195\" srcset=\"/en-us/images/thumb/Morgana_OriginalSquare.png/92px-Morgana_OriginalSquare.png?c5195 2x\" width=\"46\"/></a>,\n",
       " <a href=\"/en-us/Naafiri\" title=\"Naafiri\"><img alt=\"Naafiri\" class=\"mw-file-element\" data-file-height=\"128\" data-file-width=\"128\" decoding=\"async\" height=\"46\" loading=\"lazy\" src=\"/en-us/images/thumb/Naafiri_OriginalSquare.png/46px-Naafiri_OriginalSquare.png?b8ef1\" srcset=\"/en-us/images/thumb/Naafiri_OriginalSquare.png/92px-Naafiri_OriginalSquare.png?b8ef1 2x\" width=\"46\"/></a>,\n",
       " <a href=\"/en-us/Nami\" title=\"Nami\"><img alt=\"Nami\" class=\"mw-file-element\" data-file-height=\"128\" data-file-width=\"128\" decoding=\"async\" height=\"46\" loading=\"lazy\" src=\"/en-us/images/thumb/Nami_OriginalSquare.png/46px-Nami_OriginalSquare.png?8af39\" srcset=\"/en-us/images/thumb/Nami_OriginalSquare.png/92px-Nami_OriginalSquare.png?8af39 2x\" width=\"46\"/></a>,\n",
       " <a href=\"/en-us/Nasus\" title=\"Nasus\"><img alt=\"Nasus\" class=\"mw-file-element\" data-file-height=\"128\" data-file-width=\"128\" decoding=\"async\" height=\"46\" loading=\"lazy\" src=\"/en-us/images/thumb/Nasus_OriginalSquare.png/46px-Nasus_OriginalSquare.png?e562a\" srcset=\"/en-us/images/thumb/Nasus_OriginalSquare.png/92px-Nasus_OriginalSquare.png?e562a 2x\" width=\"46\"/></a>,\n",
       " <a href=\"/en-us/Nautilus\" title=\"Nautilus\"><img alt=\"Nautilus\" class=\"mw-file-element\" data-file-height=\"128\" data-file-width=\"128\" decoding=\"async\" height=\"46\" loading=\"lazy\" src=\"/en-us/images/thumb/Nautilus_OriginalSquare.png/46px-Nautilus_OriginalSquare.png?2cb42\" srcset=\"/en-us/images/thumb/Nautilus_OriginalSquare.png/92px-Nautilus_OriginalSquare.png?2cb42 2x\" width=\"46\"/></a>,\n",
       " <a href=\"/en-us/Neeko\" title=\"Neeko\"><img alt=\"Neeko\" class=\"mw-file-element\" data-file-height=\"128\" data-file-width=\"128\" decoding=\"async\" height=\"46\" loading=\"lazy\" src=\"/en-us/images/thumb/Neeko_OriginalSquare.png/46px-Neeko_OriginalSquare.png?80508\" srcset=\"/en-us/images/thumb/Neeko_OriginalSquare.png/92px-Neeko_OriginalSquare.png?80508 2x\" width=\"46\"/></a>,\n",
       " <a href=\"/en-us/Nidalee\" title=\"Nidalee\"><img alt=\"Nidalee\" class=\"mw-file-element\" data-file-height=\"128\" data-file-width=\"128\" decoding=\"async\" height=\"46\" loading=\"lazy\" src=\"/en-us/images/thumb/Nidalee_OriginalSquare.png/46px-Nidalee_OriginalSquare.png?966a1\" srcset=\"/en-us/images/thumb/Nidalee_OriginalSquare.png/92px-Nidalee_OriginalSquare.png?966a1 2x\" width=\"46\"/></a>,\n",
       " <a href=\"/en-us/Nilah\" title=\"Nilah\"><img alt=\"Nilah\" class=\"mw-file-element\" data-file-height=\"128\" data-file-width=\"128\" decoding=\"async\" height=\"46\" loading=\"lazy\" src=\"/en-us/images/thumb/Nilah_OriginalSquare.png/46px-Nilah_OriginalSquare.png?2502f\" srcset=\"/en-us/images/thumb/Nilah_OriginalSquare.png/92px-Nilah_OriginalSquare.png?2502f 2x\" width=\"46\"/></a>,\n",
       " <a href=\"/en-us/Nocturne\" title=\"Nocturne\"><img alt=\"Nocturne\" class=\"mw-file-element\" data-file-height=\"128\" data-file-width=\"128\" decoding=\"async\" height=\"46\" loading=\"lazy\" src=\"/en-us/images/thumb/Nocturne_OriginalSquare.png/46px-Nocturne_OriginalSquare.png?1d336\" srcset=\"/en-us/images/thumb/Nocturne_OriginalSquare.png/92px-Nocturne_OriginalSquare.png?1d336 2x\" width=\"46\"/></a>,\n",
       " <a href=\"/en-us/Nunu_%26_Willump\" title=\"Nunu &amp; Willump\"><img alt=\"Nunu &amp; Willump\" class=\"mw-file-element\" data-file-height=\"128\" data-file-width=\"128\" decoding=\"async\" height=\"46\" loading=\"lazy\" src=\"/en-us/images/thumb/Nunu_OriginalSquare.png/46px-Nunu_OriginalSquare.png?9d78b\" srcset=\"/en-us/images/thumb/Nunu_OriginalSquare.png/92px-Nunu_OriginalSquare.png?9d78b 2x\" width=\"46\"/></a>,\n",
       " <a href=\"/en-us/Olaf\" title=\"Olaf\"><img alt=\"Olaf\" class=\"mw-file-element\" data-file-height=\"128\" data-file-width=\"128\" decoding=\"async\" height=\"46\" loading=\"lazy\" src=\"/en-us/images/thumb/Olaf_OriginalSquare.png/46px-Olaf_OriginalSquare.png?f4030\" srcset=\"/en-us/images/thumb/Olaf_OriginalSquare.png/92px-Olaf_OriginalSquare.png?f4030 2x\" width=\"46\"/></a>,\n",
       " <a href=\"/en-us/Orianna\" title=\"Orianna\"><img alt=\"Orianna\" class=\"mw-file-element\" data-file-height=\"128\" data-file-width=\"128\" decoding=\"async\" height=\"46\" loading=\"lazy\" src=\"/en-us/images/thumb/Orianna_OriginalSquare.png/46px-Orianna_OriginalSquare.png?42019\" srcset=\"/en-us/images/thumb/Orianna_OriginalSquare.png/92px-Orianna_OriginalSquare.png?42019 2x\" width=\"46\"/></a>,\n",
       " <a href=\"/en-us/Ornn\" title=\"Ornn\"><img alt=\"Ornn\" class=\"mw-file-element\" data-file-height=\"128\" data-file-width=\"128\" decoding=\"async\" height=\"46\" loading=\"lazy\" src=\"/en-us/images/thumb/Ornn_OriginalSquare.png/46px-Ornn_OriginalSquare.png?94461\" srcset=\"/en-us/images/thumb/Ornn_OriginalSquare.png/92px-Ornn_OriginalSquare.png?94461 2x\" width=\"46\"/></a>,\n",
       " <a href=\"/en-us/Pantheon\" title=\"Pantheon\"><img alt=\"Pantheon\" class=\"mw-file-element\" data-file-height=\"128\" data-file-width=\"128\" decoding=\"async\" height=\"46\" loading=\"lazy\" src=\"/en-us/images/thumb/Pantheon_OriginalSquare.png/46px-Pantheon_OriginalSquare.png?0e69a\" srcset=\"/en-us/images/thumb/Pantheon_OriginalSquare.png/92px-Pantheon_OriginalSquare.png?0e69a 2x\" width=\"46\"/></a>,\n",
       " <a href=\"/en-us/Poppy\" title=\"Poppy\"><img alt=\"Poppy\" class=\"mw-file-element\" data-file-height=\"128\" data-file-width=\"128\" decoding=\"async\" height=\"46\" loading=\"lazy\" src=\"/en-us/images/thumb/Poppy_OriginalSquare.png/46px-Poppy_OriginalSquare.png?25da7\" srcset=\"/en-us/images/thumb/Poppy_OriginalSquare.png/92px-Poppy_OriginalSquare.png?25da7 2x\" width=\"46\"/></a>,\n",
       " <a href=\"/en-us/Pyke\" title=\"Pyke\"><img alt=\"Pyke\" class=\"mw-file-element\" data-file-height=\"128\" data-file-width=\"128\" decoding=\"async\" height=\"46\" loading=\"lazy\" src=\"/en-us/images/thumb/Pyke_OriginalSquare.png/46px-Pyke_OriginalSquare.png?753f1\" srcset=\"/en-us/images/thumb/Pyke_OriginalSquare.png/92px-Pyke_OriginalSquare.png?753f1 2x\" width=\"46\"/></a>,\n",
       " <a href=\"/en-us/Qiyana\" title=\"Qiyana\"><img alt=\"Qiyana\" class=\"mw-file-element\" data-file-height=\"128\" data-file-width=\"128\" decoding=\"async\" height=\"46\" loading=\"lazy\" src=\"/en-us/images/thumb/Qiyana_OriginalSquare.png/46px-Qiyana_OriginalSquare.png?17eef\" srcset=\"/en-us/images/thumb/Qiyana_OriginalSquare.png/92px-Qiyana_OriginalSquare.png?17eef 2x\" width=\"46\"/></a>,\n",
       " <a href=\"/en-us/Quinn\" title=\"Quinn\"><img alt=\"Quinn\" class=\"mw-file-element\" data-file-height=\"128\" data-file-width=\"128\" decoding=\"async\" height=\"46\" loading=\"lazy\" src=\"/en-us/images/thumb/Quinn_OriginalSquare.png/46px-Quinn_OriginalSquare.png?b17b3\" srcset=\"/en-us/images/thumb/Quinn_OriginalSquare.png/92px-Quinn_OriginalSquare.png?b17b3 2x\" width=\"46\"/></a>,\n",
       " <a href=\"/en-us/Rakan\" title=\"Rakan\"><img alt=\"Rakan\" class=\"mw-file-element\" data-file-height=\"128\" data-file-width=\"128\" decoding=\"async\" height=\"46\" loading=\"lazy\" src=\"/en-us/images/thumb/Rakan_OriginalSquare.png/46px-Rakan_OriginalSquare.png?2f696\" srcset=\"/en-us/images/thumb/Rakan_OriginalSquare.png/92px-Rakan_OriginalSquare.png?2f696 2x\" width=\"46\"/></a>,\n",
       " <a href=\"/en-us/Rammus\" title=\"Rammus\"><img alt=\"Rammus\" class=\"mw-file-element\" data-file-height=\"128\" data-file-width=\"128\" decoding=\"async\" height=\"46\" loading=\"lazy\" src=\"/en-us/images/thumb/Rammus_OriginalSquare.png/46px-Rammus_OriginalSquare.png?cb37e\" srcset=\"/en-us/images/thumb/Rammus_OriginalSquare.png/92px-Rammus_OriginalSquare.png?cb37e 2x\" width=\"46\"/></a>,\n",
       " <a href=\"/en-us/Rek%27Sai\" title=\"Rek'Sai\"><img alt=\"Rek'Sai\" class=\"mw-file-element\" data-file-height=\"128\" data-file-width=\"128\" decoding=\"async\" height=\"46\" loading=\"lazy\" src=\"/en-us/images/thumb/Rek%27Sai_OriginalSquare.png/46px-Rek%27Sai_OriginalSquare.png?4e5e9\" srcset=\"/en-us/images/thumb/Rek%27Sai_OriginalSquare.png/92px-Rek%27Sai_OriginalSquare.png?4e5e9 2x\" width=\"46\"/></a>,\n",
       " <a href=\"/en-us/Rell\" title=\"Rell\"><img alt=\"Rell\" class=\"mw-file-element\" data-file-height=\"128\" data-file-width=\"128\" decoding=\"async\" height=\"46\" loading=\"lazy\" src=\"/en-us/images/thumb/Rell_OriginalSquare.png/46px-Rell_OriginalSquare.png?eda3e\" srcset=\"/en-us/images/thumb/Rell_OriginalSquare.png/92px-Rell_OriginalSquare.png?eda3e 2x\" width=\"46\"/></a>,\n",
       " <a href=\"/en-us/Renata_Glasc\" title=\"Renata Glasc\"><img alt=\"Renata Glasc\" class=\"mw-file-element\" data-file-height=\"128\" data-file-width=\"128\" decoding=\"async\" height=\"46\" loading=\"lazy\" src=\"/en-us/images/thumb/Renata_Glasc_OriginalSquare.png/46px-Renata_Glasc_OriginalSquare.png?19095\" srcset=\"/en-us/images/thumb/Renata_Glasc_OriginalSquare.png/92px-Renata_Glasc_OriginalSquare.png?19095 2x\" width=\"46\"/></a>,\n",
       " <a href=\"/en-us/Renekton\" title=\"Renekton\"><img alt=\"Renekton\" class=\"mw-file-element\" data-file-height=\"128\" data-file-width=\"128\" decoding=\"async\" height=\"46\" loading=\"lazy\" src=\"/en-us/images/thumb/Renekton_OriginalSquare.png/46px-Renekton_OriginalSquare.png?e75d5\" srcset=\"/en-us/images/thumb/Renekton_OriginalSquare.png/92px-Renekton_OriginalSquare.png?e75d5 2x\" width=\"46\"/></a>,\n",
       " <a href=\"/en-us/Rengar\" title=\"Rengar\"><img alt=\"Rengar\" class=\"mw-file-element\" data-file-height=\"128\" data-file-width=\"128\" decoding=\"async\" height=\"46\" loading=\"lazy\" src=\"/en-us/images/thumb/Rengar_OriginalSquare.png/46px-Rengar_OriginalSquare.png?ea2a5\" srcset=\"/en-us/images/thumb/Rengar_OriginalSquare.png/92px-Rengar_OriginalSquare.png?ea2a5 2x\" width=\"46\"/></a>,\n",
       " <a href=\"/en-us/Riven\" title=\"Riven\"><img alt=\"Riven\" class=\"mw-file-element\" data-file-height=\"128\" data-file-width=\"128\" decoding=\"async\" height=\"46\" loading=\"lazy\" src=\"/en-us/images/thumb/Riven_OriginalSquare.png/46px-Riven_OriginalSquare.png?43636\" srcset=\"/en-us/images/thumb/Riven_OriginalSquare.png/92px-Riven_OriginalSquare.png?43636 2x\" width=\"46\"/></a>,\n",
       " <a href=\"/en-us/Rumble\" title=\"Rumble\"><img alt=\"Rumble\" class=\"mw-file-element\" data-file-height=\"128\" data-file-width=\"128\" decoding=\"async\" height=\"46\" loading=\"lazy\" src=\"/en-us/images/thumb/Rumble_OriginalSquare.png/46px-Rumble_OriginalSquare.png?055c6\" srcset=\"/en-us/images/thumb/Rumble_OriginalSquare.png/92px-Rumble_OriginalSquare.png?055c6 2x\" width=\"46\"/></a>,\n",
       " <a href=\"/en-us/Ryze\" title=\"Ryze\"><img alt=\"Ryze\" class=\"mw-file-element\" data-file-height=\"128\" data-file-width=\"128\" decoding=\"async\" height=\"46\" loading=\"lazy\" src=\"/en-us/images/thumb/Ryze_OriginalSquare.png/46px-Ryze_OriginalSquare.png?9644a\" srcset=\"/en-us/images/thumb/Ryze_OriginalSquare.png/92px-Ryze_OriginalSquare.png?9644a 2x\" width=\"46\"/></a>,\n",
       " <a href=\"/en-us/Samira\" title=\"Samira\"><img alt=\"Samira\" class=\"mw-file-element\" data-file-height=\"128\" data-file-width=\"128\" decoding=\"async\" height=\"46\" loading=\"lazy\" src=\"/en-us/images/thumb/Samira_OriginalSquare.png/46px-Samira_OriginalSquare.png?7a268\" srcset=\"/en-us/images/thumb/Samira_OriginalSquare.png/92px-Samira_OriginalSquare.png?7a268 2x\" width=\"46\"/></a>,\n",
       " <a href=\"/en-us/Sejuani\" title=\"Sejuani\"><img alt=\"Sejuani\" class=\"mw-file-element\" data-file-height=\"128\" data-file-width=\"128\" decoding=\"async\" height=\"46\" loading=\"lazy\" src=\"/en-us/images/thumb/Sejuani_OriginalSquare.png/46px-Sejuani_OriginalSquare.png?e9d28\" srcset=\"/en-us/images/thumb/Sejuani_OriginalSquare.png/92px-Sejuani_OriginalSquare.png?e9d28 2x\" width=\"46\"/></a>,\n",
       " <a href=\"/en-us/Senna\" title=\"Senna\"><img alt=\"Senna\" class=\"mw-file-element\" data-file-height=\"128\" data-file-width=\"128\" decoding=\"async\" height=\"46\" loading=\"lazy\" src=\"/en-us/images/thumb/Senna_OriginalSquare.png/46px-Senna_OriginalSquare.png?308b2\" srcset=\"/en-us/images/thumb/Senna_OriginalSquare.png/92px-Senna_OriginalSquare.png?308b2 2x\" width=\"46\"/></a>,\n",
       " <a href=\"/en-us/Seraphine\" title=\"Seraphine\"><img alt=\"Seraphine\" class=\"mw-file-element\" data-file-height=\"128\" data-file-width=\"128\" decoding=\"async\" height=\"46\" loading=\"lazy\" src=\"/en-us/images/thumb/Seraphine_OriginalSquare.png/46px-Seraphine_OriginalSquare.png?8b7a6\" srcset=\"/en-us/images/thumb/Seraphine_OriginalSquare.png/92px-Seraphine_OriginalSquare.png?8b7a6 2x\" width=\"46\"/></a>,\n",
       " <a href=\"/en-us/Sett\" title=\"Sett\"><img alt=\"Sett\" class=\"mw-file-element\" data-file-height=\"128\" data-file-width=\"128\" decoding=\"async\" height=\"46\" loading=\"lazy\" src=\"/en-us/images/thumb/Sett_OriginalSquare.png/46px-Sett_OriginalSquare.png?aae55\" srcset=\"/en-us/images/thumb/Sett_OriginalSquare.png/92px-Sett_OriginalSquare.png?aae55 2x\" width=\"46\"/></a>,\n",
       " <a href=\"/en-us/Shaco\" title=\"Shaco\"><img alt=\"Shaco\" class=\"mw-file-element\" data-file-height=\"128\" data-file-width=\"128\" decoding=\"async\" height=\"46\" loading=\"lazy\" src=\"/en-us/images/thumb/Shaco_OriginalSquare.png/46px-Shaco_OriginalSquare.png?1581c\" srcset=\"/en-us/images/thumb/Shaco_OriginalSquare.png/92px-Shaco_OriginalSquare.png?1581c 2x\" width=\"46\"/></a>,\n",
       " <a href=\"/en-us/Shen\" title=\"Shen\"><img alt=\"Shen\" class=\"mw-file-element\" data-file-height=\"128\" data-file-width=\"128\" decoding=\"async\" height=\"46\" loading=\"lazy\" src=\"/en-us/images/thumb/Shen_OriginalSquare.png/46px-Shen_OriginalSquare.png?361e1\" srcset=\"/en-us/images/thumb/Shen_OriginalSquare.png/92px-Shen_OriginalSquare.png?361e1 2x\" width=\"46\"/></a>,\n",
       " <a href=\"/en-us/Shyvana\" title=\"Shyvana\"><img alt=\"Shyvana\" class=\"mw-file-element\" data-file-height=\"128\" data-file-width=\"128\" decoding=\"async\" height=\"46\" loading=\"lazy\" src=\"/en-us/images/thumb/Shyvana_OriginalSquare.png/46px-Shyvana_OriginalSquare.png?113fd\" srcset=\"/en-us/images/thumb/Shyvana_OriginalSquare.png/92px-Shyvana_OriginalSquare.png?113fd 2x\" width=\"46\"/></a>,\n",
       " <a href=\"/en-us/Singed\" title=\"Singed\"><img alt=\"Singed\" class=\"mw-file-element\" data-file-height=\"128\" data-file-width=\"128\" decoding=\"async\" height=\"46\" loading=\"lazy\" src=\"/en-us/images/thumb/Singed_OriginalSquare.png/46px-Singed_OriginalSquare.png?d22e0\" srcset=\"/en-us/images/thumb/Singed_OriginalSquare.png/92px-Singed_OriginalSquare.png?d22e0 2x\" width=\"46\"/></a>,\n",
       " <a href=\"/en-us/Sion\" title=\"Sion\"><img alt=\"Sion\" class=\"mw-file-element\" data-file-height=\"128\" data-file-width=\"128\" decoding=\"async\" height=\"46\" loading=\"lazy\" src=\"/en-us/images/thumb/Sion_OriginalSquare.png/46px-Sion_OriginalSquare.png?e2bf5\" srcset=\"/en-us/images/thumb/Sion_OriginalSquare.png/92px-Sion_OriginalSquare.png?e2bf5 2x\" width=\"46\"/></a>,\n",
       " <a href=\"/en-us/Sivir\" title=\"Sivir\"><img alt=\"Sivir\" class=\"mw-file-element\" data-file-height=\"128\" data-file-width=\"128\" decoding=\"async\" height=\"46\" loading=\"lazy\" src=\"/en-us/images/thumb/Sivir_OriginalSquare.png/46px-Sivir_OriginalSquare.png?7427a\" srcset=\"/en-us/images/thumb/Sivir_OriginalSquare.png/92px-Sivir_OriginalSquare.png?7427a 2x\" width=\"46\"/></a>,\n",
       " <a href=\"/en-us/Skarner\" title=\"Skarner\"><img alt=\"Skarner\" class=\"mw-file-element\" data-file-height=\"128\" data-file-width=\"128\" decoding=\"async\" height=\"46\" loading=\"lazy\" src=\"/en-us/images/thumb/Skarner_OriginalSquare.png/46px-Skarner_OriginalSquare.png?c74fe\" srcset=\"/en-us/images/thumb/Skarner_OriginalSquare.png/92px-Skarner_OriginalSquare.png?c74fe 2x\" width=\"46\"/></a>,\n",
       " <a href=\"/en-us/Smolder\" title=\"Smolder\"><img alt=\"Smolder\" class=\"mw-file-element\" data-file-height=\"128\" data-file-width=\"128\" decoding=\"async\" height=\"46\" loading=\"lazy\" src=\"/en-us/images/thumb/Smolder_OriginalSquare.png/46px-Smolder_OriginalSquare.png?982e8\" srcset=\"/en-us/images/thumb/Smolder_OriginalSquare.png/92px-Smolder_OriginalSquare.png?982e8 2x\" width=\"46\"/></a>,\n",
       " <a href=\"/en-us/Sona\" title=\"Sona\"><img alt=\"Sona\" class=\"mw-file-element\" data-file-height=\"128\" data-file-width=\"128\" decoding=\"async\" height=\"46\" loading=\"lazy\" src=\"/en-us/images/thumb/Sona_OriginalSquare.png/46px-Sona_OriginalSquare.png?1ba62\" srcset=\"/en-us/images/thumb/Sona_OriginalSquare.png/92px-Sona_OriginalSquare.png?1ba62 2x\" width=\"46\"/></a>,\n",
       " <a href=\"/en-us/Soraka\" title=\"Soraka\"><img alt=\"Soraka\" class=\"mw-file-element\" data-file-height=\"128\" data-file-width=\"128\" decoding=\"async\" height=\"46\" loading=\"lazy\" src=\"/en-us/images/thumb/Soraka_OriginalSquare.png/46px-Soraka_OriginalSquare.png?c2dfe\" srcset=\"/en-us/images/thumb/Soraka_OriginalSquare.png/92px-Soraka_OriginalSquare.png?c2dfe 2x\" width=\"46\"/></a>,\n",
       " <a href=\"/en-us/Swain\" title=\"Swain\"><img alt=\"Swain\" class=\"mw-file-element\" data-file-height=\"128\" data-file-width=\"128\" decoding=\"async\" height=\"46\" loading=\"lazy\" src=\"/en-us/images/thumb/Swain_OriginalSquare.png/46px-Swain_OriginalSquare.png?1ac08\" srcset=\"/en-us/images/thumb/Swain_OriginalSquare.png/92px-Swain_OriginalSquare.png?1ac08 2x\" width=\"46\"/></a>,\n",
       " <a href=\"/en-us/Sylas\" title=\"Sylas\"><img alt=\"Sylas\" class=\"mw-file-element\" data-file-height=\"128\" data-file-width=\"128\" decoding=\"async\" height=\"46\" loading=\"lazy\" src=\"/en-us/images/thumb/Sylas_OriginalSquare.png/46px-Sylas_OriginalSquare.png?583fa\" srcset=\"/en-us/images/thumb/Sylas_OriginalSquare.png/92px-Sylas_OriginalSquare.png?583fa 2x\" width=\"46\"/></a>,\n",
       " <a href=\"/en-us/Syndra\" title=\"Syndra\"><img alt=\"Syndra\" class=\"mw-file-element\" data-file-height=\"128\" data-file-width=\"128\" decoding=\"async\" height=\"46\" loading=\"lazy\" src=\"/en-us/images/thumb/Syndra_OriginalSquare.png/46px-Syndra_OriginalSquare.png?2d674\" srcset=\"/en-us/images/thumb/Syndra_OriginalSquare.png/92px-Syndra_OriginalSquare.png?2d674 2x\" width=\"46\"/></a>,\n",
       " <a href=\"/en-us/Tahm_Kench\" title=\"Tahm Kench\"><img alt=\"Tahm Kench\" class=\"mw-file-element\" data-file-height=\"128\" data-file-width=\"128\" decoding=\"async\" height=\"46\" loading=\"lazy\" src=\"/en-us/images/thumb/Tahm_Kench_OriginalSquare.png/46px-Tahm_Kench_OriginalSquare.png?a243b\" srcset=\"/en-us/images/thumb/Tahm_Kench_OriginalSquare.png/92px-Tahm_Kench_OriginalSquare.png?a243b 2x\" width=\"46\"/></a>,\n",
       " <a href=\"/en-us/Taliyah\" title=\"Taliyah\"><img alt=\"Taliyah\" class=\"mw-file-element\" data-file-height=\"128\" data-file-width=\"128\" decoding=\"async\" height=\"46\" loading=\"lazy\" src=\"/en-us/images/thumb/Taliyah_OriginalSquare.png/46px-Taliyah_OriginalSquare.png?45386\" srcset=\"/en-us/images/thumb/Taliyah_OriginalSquare.png/92px-Taliyah_OriginalSquare.png?45386 2x\" width=\"46\"/></a>,\n",
       " <a href=\"/en-us/Talon\" title=\"Talon\"><img alt=\"Talon\" class=\"mw-file-element\" data-file-height=\"128\" data-file-width=\"128\" decoding=\"async\" height=\"46\" loading=\"lazy\" src=\"/en-us/images/thumb/Talon_OriginalSquare.png/46px-Talon_OriginalSquare.png?1fac5\" srcset=\"/en-us/images/thumb/Talon_OriginalSquare.png/92px-Talon_OriginalSquare.png?1fac5 2x\" width=\"46\"/></a>,\n",
       " <a href=\"/en-us/Taric\" title=\"Taric\"><img alt=\"Taric\" class=\"mw-file-element\" data-file-height=\"128\" data-file-width=\"128\" decoding=\"async\" height=\"46\" loading=\"lazy\" src=\"/en-us/images/thumb/Taric_OriginalSquare.png/46px-Taric_OriginalSquare.png?b4a0f\" srcset=\"/en-us/images/thumb/Taric_OriginalSquare.png/92px-Taric_OriginalSquare.png?b4a0f 2x\" width=\"46\"/></a>,\n",
       " <a href=\"/en-us/Teemo\" title=\"Teemo\"><img alt=\"Teemo\" class=\"mw-file-element\" data-file-height=\"128\" data-file-width=\"128\" decoding=\"async\" height=\"46\" loading=\"lazy\" src=\"/en-us/images/thumb/Teemo_OriginalSquare.png/46px-Teemo_OriginalSquare.png?c96d2\" srcset=\"/en-us/images/thumb/Teemo_OriginalSquare.png/92px-Teemo_OriginalSquare.png?c96d2 2x\" width=\"46\"/></a>,\n",
       " <a href=\"/en-us/Thresh\" title=\"Thresh\"><img alt=\"Thresh\" class=\"mw-file-element\" data-file-height=\"128\" data-file-width=\"128\" decoding=\"async\" height=\"46\" loading=\"lazy\" src=\"/en-us/images/thumb/Thresh_OriginalSquare.png/46px-Thresh_OriginalSquare.png?7a9b3\" srcset=\"/en-us/images/thumb/Thresh_OriginalSquare.png/92px-Thresh_OriginalSquare.png?7a9b3 2x\" width=\"46\"/></a>,\n",
       " <a href=\"/en-us/Tristana\" title=\"Tristana\"><img alt=\"Tristana\" class=\"mw-file-element\" data-file-height=\"128\" data-file-width=\"128\" decoding=\"async\" height=\"46\" loading=\"lazy\" src=\"/en-us/images/thumb/Tristana_OriginalSquare.png/46px-Tristana_OriginalSquare.png?27586\" srcset=\"/en-us/images/thumb/Tristana_OriginalSquare.png/92px-Tristana_OriginalSquare.png?27586 2x\" width=\"46\"/></a>,\n",
       " <a href=\"/en-us/Trundle\" title=\"Trundle\"><img alt=\"Trundle\" class=\"mw-file-element\" data-file-height=\"128\" data-file-width=\"128\" decoding=\"async\" height=\"46\" loading=\"lazy\" src=\"/en-us/images/thumb/Trundle_OriginalSquare.png/46px-Trundle_OriginalSquare.png?82c67\" srcset=\"/en-us/images/thumb/Trundle_OriginalSquare.png/92px-Trundle_OriginalSquare.png?82c67 2x\" width=\"46\"/></a>,\n",
       " <a href=\"/en-us/Tryndamere\" title=\"Tryndamere\"><img alt=\"Tryndamere\" class=\"mw-file-element\" data-file-height=\"128\" data-file-width=\"128\" decoding=\"async\" height=\"46\" loading=\"lazy\" src=\"/en-us/images/thumb/Tryndamere_OriginalSquare.png/46px-Tryndamere_OriginalSquare.png?058f1\" srcset=\"/en-us/images/thumb/Tryndamere_OriginalSquare.png/92px-Tryndamere_OriginalSquare.png?058f1 2x\" width=\"46\"/></a>,\n",
       " <a href=\"/en-us/Twisted_Fate\" title=\"Twisted Fate\"><img alt=\"Twisted Fate\" class=\"mw-file-element\" data-file-height=\"128\" data-file-width=\"128\" decoding=\"async\" height=\"46\" loading=\"lazy\" src=\"/en-us/images/thumb/Twisted_Fate_OriginalSquare.png/46px-Twisted_Fate_OriginalSquare.png?e3930\" srcset=\"/en-us/images/thumb/Twisted_Fate_OriginalSquare.png/92px-Twisted_Fate_OriginalSquare.png?e3930 2x\" width=\"46\"/></a>,\n",
       " <a href=\"/en-us/Twitch\" title=\"Twitch\"><img alt=\"Twitch\" class=\"mw-file-element\" data-file-height=\"128\" data-file-width=\"128\" decoding=\"async\" height=\"46\" loading=\"lazy\" src=\"/en-us/images/thumb/Twitch_OriginalSquare.png/46px-Twitch_OriginalSquare.png?f98e7\" srcset=\"/en-us/images/thumb/Twitch_OriginalSquare.png/92px-Twitch_OriginalSquare.png?f98e7 2x\" width=\"46\"/></a>,\n",
       " <a href=\"/en-us/Udyr\" title=\"Udyr\"><img alt=\"Udyr\" class=\"mw-file-element\" data-file-height=\"128\" data-file-width=\"128\" decoding=\"async\" height=\"46\" loading=\"lazy\" src=\"/en-us/images/thumb/Udyr_OriginalSquare.png/46px-Udyr_OriginalSquare.png?4906a\" srcset=\"/en-us/images/thumb/Udyr_OriginalSquare.png/92px-Udyr_OriginalSquare.png?4906a 2x\" width=\"46\"/></a>,\n",
       " <a href=\"/en-us/Urgot\" title=\"Urgot\"><img alt=\"Urgot\" class=\"mw-file-element\" data-file-height=\"128\" data-file-width=\"128\" decoding=\"async\" height=\"46\" loading=\"lazy\" src=\"/en-us/images/thumb/Urgot_OriginalSquare.png/46px-Urgot_OriginalSquare.png?18321\" srcset=\"/en-us/images/thumb/Urgot_OriginalSquare.png/92px-Urgot_OriginalSquare.png?18321 2x\" width=\"46\"/></a>,\n",
       " <a href=\"/en-us/Varus\" title=\"Varus\"><img alt=\"Varus\" class=\"mw-file-element\" data-file-height=\"128\" data-file-width=\"128\" decoding=\"async\" height=\"46\" loading=\"lazy\" src=\"/en-us/images/thumb/Varus_OriginalSquare.png/46px-Varus_OriginalSquare.png?de862\" srcset=\"/en-us/images/thumb/Varus_OriginalSquare.png/92px-Varus_OriginalSquare.png?de862 2x\" width=\"46\"/></a>,\n",
       " <a href=\"/en-us/Vayne\" title=\"Vayne\"><img alt=\"Vayne\" class=\"mw-file-element\" data-file-height=\"128\" data-file-width=\"128\" decoding=\"async\" height=\"46\" loading=\"lazy\" src=\"/en-us/images/thumb/Vayne_OriginalSquare.png/46px-Vayne_OriginalSquare.png?91c9f\" srcset=\"/en-us/images/thumb/Vayne_OriginalSquare.png/92px-Vayne_OriginalSquare.png?91c9f 2x\" width=\"46\"/></a>,\n",
       " <a href=\"/en-us/Veigar\" title=\"Veigar\"><img alt=\"Veigar\" class=\"mw-file-element\" data-file-height=\"128\" data-file-width=\"128\" decoding=\"async\" height=\"46\" loading=\"lazy\" src=\"/en-us/images/thumb/Veigar_OriginalSquare.png/46px-Veigar_OriginalSquare.png?cfbd0\" srcset=\"/en-us/images/thumb/Veigar_OriginalSquare.png/92px-Veigar_OriginalSquare.png?cfbd0 2x\" width=\"46\"/></a>,\n",
       " <a href=\"/en-us/Vel%27Koz\" title=\"Vel'Koz\"><img alt=\"Vel'Koz\" class=\"mw-file-element\" data-file-height=\"128\" data-file-width=\"128\" decoding=\"async\" height=\"46\" loading=\"lazy\" src=\"/en-us/images/thumb/Vel%27Koz_OriginalSquare.png/46px-Vel%27Koz_OriginalSquare.png?cf4d5\" srcset=\"/en-us/images/thumb/Vel%27Koz_OriginalSquare.png/92px-Vel%27Koz_OriginalSquare.png?cf4d5 2x\" width=\"46\"/></a>,\n",
       " <a href=\"/en-us/Vex\" title=\"Vex\"><img alt=\"Vex\" class=\"mw-file-element\" data-file-height=\"128\" data-file-width=\"128\" decoding=\"async\" height=\"46\" loading=\"lazy\" src=\"/en-us/images/thumb/Vex_OriginalSquare.png/46px-Vex_OriginalSquare.png?90e57\" srcset=\"/en-us/images/thumb/Vex_OriginalSquare.png/92px-Vex_OriginalSquare.png?90e57 2x\" width=\"46\"/></a>,\n",
       " <a href=\"/en-us/Vi\" title=\"Vi\"><img alt=\"Vi\" class=\"mw-file-element\" data-file-height=\"128\" data-file-width=\"128\" decoding=\"async\" height=\"46\" loading=\"lazy\" src=\"/en-us/images/thumb/Vi_OriginalSquare.png/46px-Vi_OriginalSquare.png?7059f\" srcset=\"/en-us/images/thumb/Vi_OriginalSquare.png/92px-Vi_OriginalSquare.png?7059f 2x\" width=\"46\"/></a>,\n",
       " <a href=\"/en-us/Viego\" title=\"Viego\"><img alt=\"Viego\" class=\"mw-file-element\" data-file-height=\"128\" data-file-width=\"128\" decoding=\"async\" height=\"46\" loading=\"lazy\" src=\"/en-us/images/thumb/Viego_OriginalSquare.png/46px-Viego_OriginalSquare.png?24103\" srcset=\"/en-us/images/thumb/Viego_OriginalSquare.png/92px-Viego_OriginalSquare.png?24103 2x\" width=\"46\"/></a>,\n",
       " <a href=\"/en-us/Viktor\" title=\"Viktor\"><img alt=\"Viktor\" class=\"mw-file-element\" data-file-height=\"128\" data-file-width=\"128\" decoding=\"async\" height=\"46\" loading=\"lazy\" src=\"/en-us/images/thumb/Viktor_OriginalSquare.png/46px-Viktor_OriginalSquare.png?90985\" srcset=\"/en-us/images/thumb/Viktor_OriginalSquare.png/92px-Viktor_OriginalSquare.png?90985 2x\" width=\"46\"/></a>,\n",
       " <a href=\"/en-us/Vladimir\" title=\"Vladimir\"><img alt=\"Vladimir\" class=\"mw-file-element\" data-file-height=\"128\" data-file-width=\"128\" decoding=\"async\" height=\"46\" loading=\"lazy\" src=\"/en-us/images/thumb/Vladimir_OriginalSquare.png/46px-Vladimir_OriginalSquare.png?c95a2\" srcset=\"/en-us/images/thumb/Vladimir_OriginalSquare.png/92px-Vladimir_OriginalSquare.png?c95a2 2x\" width=\"46\"/></a>,\n",
       " <a href=\"/en-us/Volibear\" title=\"Volibear\"><img alt=\"Volibear\" class=\"mw-file-element\" data-file-height=\"128\" data-file-width=\"128\" decoding=\"async\" height=\"46\" loading=\"lazy\" src=\"/en-us/images/thumb/Volibear_OriginalSquare.png/46px-Volibear_OriginalSquare.png?b57de\" srcset=\"/en-us/images/thumb/Volibear_OriginalSquare.png/92px-Volibear_OriginalSquare.png?b57de 2x\" width=\"46\"/></a>,\n",
       " <a href=\"/en-us/Warwick\" title=\"Warwick\"><img alt=\"Warwick\" class=\"mw-file-element\" data-file-height=\"128\" data-file-width=\"128\" decoding=\"async\" height=\"46\" loading=\"lazy\" src=\"/en-us/images/thumb/Warwick_OriginalSquare.png/46px-Warwick_OriginalSquare.png?906f1\" srcset=\"/en-us/images/thumb/Warwick_OriginalSquare.png/92px-Warwick_OriginalSquare.png?906f1 2x\" width=\"46\"/></a>,\n",
       " <a href=\"/en-us/Wukong\" title=\"Wukong\"><img alt=\"Wukong\" class=\"mw-file-element\" data-file-height=\"128\" data-file-width=\"128\" decoding=\"async\" height=\"46\" loading=\"lazy\" src=\"/en-us/images/thumb/Wukong_OriginalSquare.png/46px-Wukong_OriginalSquare.png?fb063\" srcset=\"/en-us/images/thumb/Wukong_OriginalSquare.png/92px-Wukong_OriginalSquare.png?fb063 2x\" width=\"46\"/></a>,\n",
       " <a href=\"/en-us/Xayah\" title=\"Xayah\"><img alt=\"Xayah\" class=\"mw-file-element\" data-file-height=\"128\" data-file-width=\"128\" decoding=\"async\" height=\"46\" loading=\"lazy\" src=\"/en-us/images/thumb/Xayah_OriginalSquare.png/46px-Xayah_OriginalSquare.png?bb4bb\" srcset=\"/en-us/images/thumb/Xayah_OriginalSquare.png/92px-Xayah_OriginalSquare.png?bb4bb 2x\" width=\"46\"/></a>,\n",
       " <a href=\"/en-us/Xerath\" title=\"Xerath\"><img alt=\"Xerath\" class=\"mw-file-element\" data-file-height=\"120\" data-file-width=\"120\" decoding=\"async\" height=\"46\" loading=\"lazy\" src=\"/en-us/images/thumb/Xerath_OriginalSquare.png/46px-Xerath_OriginalSquare.png?1fd0d\" srcset=\"/en-us/images/thumb/Xerath_OriginalSquare.png/92px-Xerath_OriginalSquare.png?1fd0d 2x\" width=\"46\"/></a>,\n",
       " <a href=\"/en-us/Xin_Zhao\" title=\"Xin Zhao\"><img alt=\"Xin Zhao\" class=\"mw-file-element\" data-file-height=\"128\" data-file-width=\"128\" decoding=\"async\" height=\"46\" loading=\"lazy\" src=\"/en-us/images/thumb/Xin_Zhao_OriginalSquare.png/46px-Xin_Zhao_OriginalSquare.png?a1ef9\" srcset=\"/en-us/images/thumb/Xin_Zhao_OriginalSquare.png/92px-Xin_Zhao_OriginalSquare.png?a1ef9 2x\" width=\"46\"/></a>,\n",
       " <a href=\"/en-us/Yasuo\" title=\"Yasuo\"><img alt=\"Yasuo\" class=\"mw-file-element\" data-file-height=\"128\" data-file-width=\"128\" decoding=\"async\" height=\"46\" loading=\"lazy\" src=\"/en-us/images/thumb/Yasuo_OriginalSquare.png/46px-Yasuo_OriginalSquare.png?50389\" srcset=\"/en-us/images/thumb/Yasuo_OriginalSquare.png/92px-Yasuo_OriginalSquare.png?50389 2x\" width=\"46\"/></a>,\n",
       " <a href=\"/en-us/Yone\" title=\"Yone\"><img alt=\"Yone\" class=\"mw-file-element\" data-file-height=\"128\" data-file-width=\"128\" decoding=\"async\" height=\"46\" loading=\"lazy\" src=\"/en-us/images/thumb/Yone_OriginalSquare.png/46px-Yone_OriginalSquare.png?19510\" srcset=\"/en-us/images/thumb/Yone_OriginalSquare.png/92px-Yone_OriginalSquare.png?19510 2x\" width=\"46\"/></a>,\n",
       " <a href=\"/en-us/Yorick\" title=\"Yorick\"><img alt=\"Yorick\" class=\"mw-file-element\" data-file-height=\"128\" data-file-width=\"128\" decoding=\"async\" height=\"46\" loading=\"lazy\" src=\"/en-us/images/thumb/Yorick_OriginalSquare.png/46px-Yorick_OriginalSquare.png?df2b9\" srcset=\"/en-us/images/thumb/Yorick_OriginalSquare.png/92px-Yorick_OriginalSquare.png?df2b9 2x\" width=\"46\"/></a>,\n",
       " <a href=\"/en-us/Yuumi\" title=\"Yuumi\"><img alt=\"Yuumi\" class=\"mw-file-element\" data-file-height=\"128\" data-file-width=\"128\" decoding=\"async\" height=\"46\" loading=\"lazy\" src=\"/en-us/images/thumb/Yuumi_OriginalSquare.png/46px-Yuumi_OriginalSquare.png?86196\" srcset=\"/en-us/images/thumb/Yuumi_OriginalSquare.png/92px-Yuumi_OriginalSquare.png?86196 2x\" width=\"46\"/></a>,\n",
       " <a href=\"/en-us/Zac\" title=\"Zac\"><img alt=\"Zac\" class=\"mw-file-element\" data-file-height=\"128\" data-file-width=\"128\" decoding=\"async\" height=\"46\" loading=\"lazy\" src=\"/en-us/images/thumb/Zac_OriginalSquare.png/46px-Zac_OriginalSquare.png?a7e6d\" srcset=\"/en-us/images/thumb/Zac_OriginalSquare.png/92px-Zac_OriginalSquare.png?a7e6d 2x\" width=\"46\"/></a>,\n",
       " <a href=\"/en-us/Zed\" title=\"Zed\"><img alt=\"Zed\" class=\"mw-file-element\" data-file-height=\"128\" data-file-width=\"128\" decoding=\"async\" height=\"46\" loading=\"lazy\" src=\"/en-us/images/thumb/Zed_OriginalSquare.png/46px-Zed_OriginalSquare.png?a0d23\" srcset=\"/en-us/images/thumb/Zed_OriginalSquare.png/92px-Zed_OriginalSquare.png?a0d23 2x\" width=\"46\"/></a>,\n",
       " <a href=\"/en-us/Zeri\" title=\"Zeri\"><img alt=\"Zeri\" class=\"mw-file-element\" data-file-height=\"128\" data-file-width=\"128\" decoding=\"async\" height=\"46\" loading=\"lazy\" src=\"/en-us/images/thumb/Zeri_OriginalSquare.png/46px-Zeri_OriginalSquare.png?2cf03\" srcset=\"/en-us/images/thumb/Zeri_OriginalSquare.png/92px-Zeri_OriginalSquare.png?2cf03 2x\" width=\"46\"/></a>,\n",
       " <a href=\"/en-us/Ziggs\" title=\"Ziggs\"><img alt=\"Ziggs\" class=\"mw-file-element\" data-file-height=\"128\" data-file-width=\"128\" decoding=\"async\" height=\"46\" loading=\"lazy\" src=\"/en-us/images/thumb/Ziggs_OriginalSquare.png/46px-Ziggs_OriginalSquare.png?64a88\" srcset=\"/en-us/images/thumb/Ziggs_OriginalSquare.png/92px-Ziggs_OriginalSquare.png?64a88 2x\" width=\"46\"/></a>,\n",
       " <a href=\"/en-us/Zilean\" title=\"Zilean\"><img alt=\"Zilean\" class=\"mw-file-element\" data-file-height=\"128\" data-file-width=\"128\" decoding=\"async\" height=\"46\" loading=\"lazy\" src=\"/en-us/images/thumb/Zilean_OriginalSquare.png/46px-Zilean_OriginalSquare.png?8a9f3\" srcset=\"/en-us/images/thumb/Zilean_OriginalSquare.png/92px-Zilean_OriginalSquare.png?8a9f3 2x\" width=\"46\"/></a>,\n",
       " <a href=\"/en-us/Zoe\" title=\"Zoe\"><img alt=\"Zoe\" class=\"mw-file-element\" data-file-height=\"128\" data-file-width=\"128\" decoding=\"async\" height=\"46\" loading=\"lazy\" src=\"/en-us/images/thumb/Zoe_OriginalSquare.png/46px-Zoe_OriginalSquare.png?b1b61\" srcset=\"/en-us/images/thumb/Zoe_OriginalSquare.png/92px-Zoe_OriginalSquare.png?b1b61 2x\" width=\"46\"/></a>,\n",
       " <a href=\"/en-us/Zyra\" title=\"Zyra\"><img alt=\"Zyra\" class=\"mw-file-element\" data-file-height=\"128\" data-file-width=\"128\" decoding=\"async\" height=\"46\" loading=\"lazy\" src=\"/en-us/images/thumb/Zyra_OriginalSquare.png/46px-Zyra_OriginalSquare.png?4c391\" srcset=\"/en-us/images/thumb/Zyra_OriginalSquare.png/92px-Zyra_OriginalSquare.png?4c391 2x\" width=\"46\"/></a>]"
      ]
     },
     "execution_count": 114,
     "metadata": {},
     "output_type": "execute_result"
    }
   ],
   "source": [
    "links_in_table"
   ]
  },
  {
   "cell_type": "code",
   "execution_count": null,
   "metadata": {},
   "outputs": [],
   "source": []
  }
 ],
 "metadata": {
  "kernelspec": {
   "display_name": "LLM_quiz_kernel",
   "language": "python",
   "name": ".venv"
  },
  "language_info": {
   "codemirror_mode": {
    "name": "ipython",
    "version": 3
   },
   "file_extension": ".py",
   "mimetype": "text/x-python",
   "name": "python",
   "nbconvert_exporter": "python",
   "pygments_lexer": "ipython3",
   "version": "3.9.13"
  }
 },
 "nbformat": 4,
 "nbformat_minor": 2
}
